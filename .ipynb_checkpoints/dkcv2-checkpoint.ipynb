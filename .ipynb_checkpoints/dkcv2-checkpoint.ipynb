{
 "cells": [
  {
   "cell_type": "code",
   "execution_count": 8,
   "id": "397f4249-de60-40c5-832b-407af1c9232c",
   "metadata": {},
   "outputs": [],
   "source": [
    "import os\n",
    "import numpy as np\n",
    "import cv2"
   ]
  },
  {
   "cell_type": "code",
   "execution_count": 9,
   "id": "c709739a-faed-4fa5-a724-a49389852468",
   "metadata": {},
   "outputs": [],
   "source": [
    "image = cv2.imread('storephoto.jpeg')"
   ]
  },
  {
   "cell_type": "code",
   "execution_count": 10,
   "id": "74c2aca4-ddb4-45bd-8cc2-8450d82b18cc",
   "metadata": {},
   "outputs": [],
   "source": [
    "# Define the number of rows and columns for splitting\n",
    "rows = 2\n",
    "cols = 3"
   ]
  },
  {
   "cell_type": "code",
   "execution_count": 11,
   "id": "771ac388-fe28-4644-9ff0-d54d24951e2c",
   "metadata": {},
   "outputs": [],
   "source": [
    "# Calculate the dimensions of each square\n",
    "height, width, _ = image.shape\n",
    "square_height = height // rows\n",
    "square_width = width // cols\n",
    "\n",
    "# Define the overlap size (adjust as needed)\n",
    "overlap_percentage = 10  # 10% overlap\n",
    "\n",
    "# Calculate the overlap size in pixels\n",
    "overlap_height = square_height * overlap_percentage // 100\n",
    "overlap_width = square_width * overlap_percentage // 100"
   ]
  },
  {
   "cell_type": "code",
   "execution_count": 12,
   "id": "2dcc5b17-9785-40ff-8a92-8581c954f745",
   "metadata": {},
   "outputs": [],
   "source": [
    "os.makedirs(\"sub_images\", exist_ok=True)"
   ]
  },
  {
   "cell_type": "code",
   "execution_count": 13,
   "id": "fbf7d06f",
   "metadata": {},
   "outputs": [],
   "source": [
    "# Split the image into squares with overlap and save them\n",
    "for i in range(rows):\n",
    "    for j in range(cols):\n",
    "        y_start = i * (square_height - overlap_height)\n",
    "        y_end = (i + 1) * square_height\n",
    "        x_start = j * (square_width - overlap_width)\n",
    "        x_end = (j + 1) * square_width\n",
    "\n",
    "        sub_image = image[y_start:y_end, x_start:x_end]\n",
    "\n",
    "        # Save the sub-image to disk\n",
    "        sub_image_filename = f'sub_images/sub_image_{i}_{j}.jpg'\n",
    "        cv2.imwrite(sub_image_filename, sub_image)"
   ]
  },
  {
   "cell_type": "code",
   "execution_count": null,
   "id": "21916d5d-3b3d-4686-ab45-a498601f08ba",
   "metadata": {},
   "outputs": [],
   "source": []
  }
 ],
 "metadata": {
  "kernelspec": {
   "display_name": "Python 3 (ipykernel)",
   "language": "python",
   "name": "python3"
  },
  "language_info": {
   "codemirror_mode": {
    "name": "ipython",
    "version": 3
   },
   "file_extension": ".py",
   "mimetype": "text/x-python",
   "name": "python",
   "nbconvert_exporter": "python",
   "pygments_lexer": "ipython3",
   "version": "3.12.0"
  }
 },
 "nbformat": 4,
 "nbformat_minor": 5
}
