{
 "cells": [
  {
   "cell_type": "code",
   "execution_count": 1,
   "id": "ff6564be-ba5d-4366-b40d-7c58d1539c31",
   "metadata": {},
   "outputs": [],
   "source": [
    "import openai\n",
    "import os\n",
    "from openai import OpenAI\n",
    "import base64\n",
    "import time\n",
    "import requests"
   ]
  },
  {
   "cell_type": "code",
   "execution_count": 2,
   "id": "c709739a-faed-4fa5-a724-a49389852468",
   "metadata": {},
   "outputs": [],
   "source": [
    "api_key = os.environ.get(\"OPENAI_API_KEY\")"
   ]
  },
  {
   "cell_type": "code",
   "execution_count": 3,
   "id": "74c2aca4-ddb4-45bd-8cc2-8450d82b18cc",
   "metadata": {},
   "outputs": [],
   "source": [
    "# Function to encode the image\n",
    "def encode_image(image_path):\n",
    "  with open(image_path, \"rb\") as image_file:\n",
    "    return base64.b64encode(image_file.read()).decode('utf-8')"
   ]
  },
  {
   "cell_type": "code",
   "execution_count": 4,
   "id": "771ac388-fe28-4644-9ff0-d54d24951e2c",
   "metadata": {},
   "outputs": [],
   "source": [
    "# Directory containing the images\n",
    "image_directory = \"sub_images\"\n",
    "\n",
    "# List to store base64-encoded images\n",
    "encoded_images = []"
   ]
  },
  {
   "cell_type": "code",
   "execution_count": 5,
   "id": "2dcc5b17-9785-40ff-8a92-8581c954f745",
   "metadata": {},
   "outputs": [],
   "source": [
    "# Get a list of filenames in the directory and sort them alphabetically\n",
    "image_files = sorted(os.listdir(image_directory))\n",
    "\n",
    "# Loop through the sorted filenames\n",
    "for filename in image_files:\n",
    "    if filename.endswith(\".jpg\"):  # Adjust the file extension as needed\n",
    "        image_path = os.path.join(image_directory, filename)\n",
    "\n",
    "        # Encode the image and append it to the list\n",
    "        base64_image = encode_image(image_path)\n",
    "        encoded_images.append(base64_image)"
   ]
  },
  {
   "cell_type": "code",
   "execution_count": 6,
   "id": "576a614b-421a-44e6-860e-894f90d33fa1",
   "metadata": {},
   "outputs": [],
   "source": [
    "# List to store message objects for each image\n",
    "messages = []\n",
    "\n",
    "headers = {\n",
    "    \"Content-Type\": \"application/json\",\n",
    "    \"Authorization\": f\"Bearer {api_key}\"\n",
    "}"
   ]
  },
  {
   "cell_type": "code",
   "execution_count": 7,
   "id": "a3df5782-bf7e-482b-a020-50c22a252911",
   "metadata": {},
   "outputs": [],
   "source": [
    "# Add a single text message\n",
    "text_message = {\n",
    "    \"role\": \"user\",\n",
    "    \"content\": [\n",
    "        {\n",
    "            \"type\": \"text\",\n",
    "            \"text\": \"In these images, please specify in which image I can find the lemon grass, and provide a detailed description of the product and the location.\",\n",
    "        }\n",
    "    ]\n",
    "}\n",
    "messages.append(text_message)"
   ]
  },
  {
   "cell_type": "code",
   "execution_count": 8,
   "id": "8c2a7d01-37a9-48fc-8d39-23d42804d47b",
   "metadata": {},
   "outputs": [],
   "source": [
    "# Iterate through encoded images and add image messages\n",
    "for base64_image in encoded_images:\n",
    "    image_message = {\n",
    "        \"role\": \"user\",\n",
    "        \"content\": [\n",
    "            {\n",
    "                \"type\": \"image_url\",\n",
    "                \"image_url\": {\n",
    "                    \"url\": f\"data:image/jpeg;base64,{base64_image}\"\n",
    "                }\n",
    "            }\n",
    "        ]\n",
    "    }\n",
    "    messages.append(image_message)"
   ]
  },
  {
   "cell_type": "code",
   "execution_count": 9,
   "id": "fbf7d06f",
   "metadata": {},
   "outputs": [],
   "source": [
    "# Create the payload with the list of messages\n",
    "payload = {\n",
    "    \"model\": \"gpt-4-vision-preview\",\n",
    "    \"messages\": messages,\n",
    "    \"max_tokens\": 300\n",
    "}\n"
   ]
  },
  {
   "cell_type": "code",
   "execution_count": 10,
   "id": "4ab132be-9ed8-4d1a-b764-37aef73f57bd",
   "metadata": {},
   "outputs": [
    {
     "name": "stdout",
     "output_type": "stream",
     "text": [
      "API request took 13.03 seconds\n"
     ]
    }
   ],
   "source": [
    "# Record the start time\n",
    "start_time = time.time()\n",
    "\n",
    "response = requests.post(\"https://api.openai.com/v1/chat/completions\", headers=headers, json=payload)\n",
    "\n",
    "# Record the end time\n",
    "end_time = time.time()\n",
    "\n",
    "# Calculate the elapsed time\n",
    "elapsed_time = end_time - start_time\n",
    "\n",
    "# Print the elapsed time\n",
    "print(f\"API request took {elapsed_time:.2f} seconds\")"
   ]
  },
  {
   "cell_type": "code",
   "execution_count": 11,
   "id": "b91b0590-5b71-4b2b-bdcf-a0a55afea666",
   "metadata": {},
   "outputs": [
    {
     "name": "stdout",
     "output_type": "stream",
     "text": [
      "{'id': 'chatcmpl-8LwEbQ5JpFg3q1IYWX5Ka60FfhEP6', 'object': 'chat.completion', 'created': 1700239433, 'model': 'gpt-4-1106-vision-preview', 'usage': {'prompt_tokens': 7029, 'completion_tokens': 185, 'total_tokens': 7214}, 'choices': [{'message': {'role': 'assistant', 'content': 'The lemon grass can be found in the last image you\\'ve provided. It is located on the second shelf from the bottom, towards the right side of the image. The product is in a clear glass jar with a label that reads \"LEMONGRASS\" in large white letters, and there appear to be two jars side by side. The label also shows that the product is dried and cut lemongrass, which is often used in cooking for its citrusy and slightly minty flavor, commonly utilized in Thai, Vietnamese, and other Southeast Asian cuisines.\\n\\nTo describe the product\\'s appearance, it looks like rough, finely chopped pale green bits, possibly dried lemongrass leaves or stalk pieces. The product is part of the Waitrose grocery store brand, as indicated by the label design similar to other jars on the same row. The price tag below the product shows that it costs £1.80.'}, 'finish_details': {'type': 'stop', 'stop': '<|fim_suffix|>'}, 'index': 0}]}\n"
     ]
    }
   ],
   "source": [
    "print(response.json())"
   ]
  },
  {
   "cell_type": "code",
   "execution_count": null,
   "id": "21916d5d-3b3d-4686-ab45-a498601f08ba",
   "metadata": {},
   "outputs": [],
   "source": []
  }
 ],
 "metadata": {
  "kernelspec": {
   "display_name": "Python 3 (ipykernel)",
   "language": "python",
   "name": "python3"
  },
  "language_info": {
   "codemirror_mode": {
    "name": "ipython",
    "version": 3
   },
   "file_extension": ".py",
   "mimetype": "text/x-python",
   "name": "python",
   "nbconvert_exporter": "python",
   "pygments_lexer": "ipython3",
   "version": "3.12.0"
  }
 },
 "nbformat": 4,
 "nbformat_minor": 5
}
